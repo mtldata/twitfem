{
 "cells": [
  {
   "cell_type": "markdown",
   "metadata": {},
   "source": [
    "#word2vec"
   ]
  },
  {
   "cell_type": "code",
   "execution_count": 1,
   "metadata": {
    "collapsed": false
   },
   "outputs": [],
   "source": [
    "import gensim\n",
    "from gensim.models import Word2Vec, Doc2Vec\n",
    "\n",
    "import logging\n",
    "logging.basicConfig(format='%(asctime)s : %(levelname)s : %(message)s', level=logging.INFO)"
   ]
  },
  {
   "cell_type": "markdown",
   "metadata": {},
   "source": [
    "##Downloaded Google's pretrained model and now to load it in"
   ]
  },
  {
   "cell_type": "code",
   "execution_count": 2,
   "metadata": {
    "collapsed": false
   },
   "outputs": [],
   "source": [
    "google_model_path = \"../data/GoogleNews-vectors-negative300.bin\""
   ]
  },
  {
   "cell_type": "code",
   "execution_count": 3,
   "metadata": {
    "collapsed": false
   },
   "outputs": [],
   "source": [
    "model = gensim.models.Word2Vec.load_word2vec_format(google_model_path, binary=True)"
   ]
  },
  {
   "cell_type": "markdown",
   "metadata": {},
   "source": [
    "##Testing Some of the Tutorial Functions"
   ]
  },
  {
   "cell_type": "code",
   "execution_count": 4,
   "metadata": {
    "collapsed": false
   },
   "outputs": [
    {
     "data": {
      "text/plain": [
       "0.76640122445164283"
      ]
     },
     "execution_count": 4,
     "metadata": {},
     "output_type": "execute_result"
    }
   ],
   "source": [
    "model.similarity('woman', 'man')"
   ]
  },
  {
   "cell_type": "code",
   "execution_count": 5,
   "metadata": {
    "collapsed": false
   },
   "outputs": [
    {
     "data": {
      "text/plain": [
       "[('queen', 0.7118195295333862),\n",
       " ('monarch', 0.6189675331115723),\n",
       " ('princess', 0.5902432203292847),\n",
       " ('crown_prince', 0.5499461889266968),\n",
       " ('prince', 0.5377322435379028),\n",
       " ('kings', 0.523684561252594),\n",
       " ('Queen_Consort', 0.5235946178436279),\n",
       " ('queens', 0.5181134939193726),\n",
       " ('sultan', 0.5098595023155212),\n",
       " ('monarchy', 0.5087412595748901),\n",
       " ('royal_palace', 0.5087167024612427),\n",
       " ('throne', 0.5005807876586914),\n",
       " ('royal', 0.49382054805755615),\n",
       " ('Princess_Sikhanyiso', 0.4936618208885193),\n",
       " ('ruler', 0.49092766642570496)]"
      ]
     },
     "execution_count": 5,
     "metadata": {},
     "output_type": "execute_result"
    }
   ],
   "source": [
    "model.most_similar(positive=['woman', 'king'], negative=['man'], topn=15)"
   ]
  },
  {
   "cell_type": "markdown",
   "metadata": {},
   "source": [
    "##Try doc2vec"
   ]
  },
  {
   "cell_type": "code",
   "execution_count": 7,
   "metadata": {
    "collapsed": true
   },
   "outputs": [],
   "source": [
    "doc_model = Doc2Vec.load_word2vec_format(google_model_path, binary=True)"
   ]
  },
  {
   "cell_type": "code",
   "execution_count": 8,
   "metadata": {
    "collapsed": false
   },
   "outputs": [
    {
     "data": {
      "text/plain": [
       "0.81121909156635519"
      ]
     },
     "execution_count": 8,
     "metadata": {},
     "output_type": "execute_result"
    }
   ],
   "source": [
    "doc_model.n_similarity(['my','home'], ['my', 'house'])"
   ]
  },
  {
   "cell_type": "markdown",
   "metadata": {},
   "source": [
    "##Load Some Tweets"
   ]
  },
  {
   "cell_type": "code",
   "execution_count": 9,
   "metadata": {
    "collapsed": false
   },
   "outputs": [],
   "source": [
    "import pandas as pd\n",
    "df_curated = pd.read_pickle('/home/class03/TwitFem/notebooks/df_curated.pickle')"
   ]
  },
  {
   "cell_type": "code",
   "execution_count": 12,
   "metadata": {
    "collapsed": false
   },
   "outputs": [
    {
     "data": {
      "text/html": [
       "<div style=\"max-height:1000px;max-width:1500px;overflow:auto;\">\n",
       "<table border=\"1\" class=\"dataframe\">\n",
       "  <thead>\n",
       "    <tr style=\"text-align: right;\">\n",
       "      <th></th>\n",
       "      <th>Unnamed: 0</th>\n",
       "      <th>id</th>\n",
       "      <th>tweet</th>\n",
       "      <th>class</th>\n",
       "    </tr>\n",
       "  </thead>\n",
       "  <tbody>\n",
       "    <tr>\n",
       "      <th>0</th>\n",
       "      <td> 0</td>\n",
       "      <td> 5.791410e+17</td>\n",
       "      <td> RT @_QueeN_TEE_: I've asked so many people who...</td>\n",
       "      <td> 1</td>\n",
       "    </tr>\n",
       "    <tr>\n",
       "      <th>1</th>\n",
       "      <td> 1</td>\n",
       "      <td> 5.730930e+17</td>\n",
       "      <td> RT @HisFeministMama: It would be nice if media...</td>\n",
       "      <td> 2</td>\n",
       "    </tr>\n",
       "    <tr>\n",
       "      <th>2</th>\n",
       "      <td> 2</td>\n",
       "      <td> 5.901410e+17</td>\n",
       "      <td> RT @doctorow: Helen Keller, feminist, radical ...</td>\n",
       "      <td> 1</td>\n",
       "    </tr>\n",
       "    <tr>\n",
       "      <th>3</th>\n",
       "      <td> 3</td>\n",
       "      <td> 5.637580e+17</td>\n",
       "      <td> RT @wjlly2: You can't be a feminist and active...</td>\n",
       "      <td> 0</td>\n",
       "    </tr>\n",
       "    <tr>\n",
       "      <th>4</th>\n",
       "      <td> 4</td>\n",
       "      <td> 5.793140e+17</td>\n",
       "      <td> RT @WeNeedFeminlsm: Tell me again why we don't...</td>\n",
       "      <td> 0</td>\n",
       "    </tr>\n",
       "  </tbody>\n",
       "</table>\n",
       "</div>"
      ],
      "text/plain": [
       "   Unnamed: 0            id  \\\n",
       "0           0  5.791410e+17   \n",
       "1           1  5.730930e+17   \n",
       "2           2  5.901410e+17   \n",
       "3           3  5.637580e+17   \n",
       "4           4  5.793140e+17   \n",
       "\n",
       "                                               tweet  class  \n",
       "0  RT @_QueeN_TEE_: I've asked so many people who...      1  \n",
       "1  RT @HisFeministMama: It would be nice if media...      2  \n",
       "2  RT @doctorow: Helen Keller, feminist, radical ...      1  \n",
       "3  RT @wjlly2: You can't be a feminist and active...      0  \n",
       "4  RT @WeNeedFeminlsm: Tell me again why we don't...      0  "
      ]
     },
     "execution_count": 12,
     "metadata": {},
     "output_type": "execute_result"
    }
   ],
   "source": [
    "df_curated.head()"
   ]
  },
  {
   "cell_type": "code",
   "execution_count": 19,
   "metadata": {
    "collapsed": false
   },
   "outputs": [],
   "source": [
    "pro_feminist_tweets = list(df_curated[df_curated['class'] == 1]['tweet'])\n",
    "anti_feminist_tweets = list(df_curated[df_curated['class'] == 2]['tweet'])"
   ]
  },
  {
   "cell_type": "code",
   "execution_count": 27,
   "metadata": {
    "collapsed": false
   },
   "outputs": [],
   "source": [
    "from gensim.models.doc2vec import LabeledSentence\n",
    "pro_feminist_labeled_sentences = [LabeledSentence(words=tweet.split(), labels=['PRO']) for tweet in pro_feminist_tweets]\n",
    "anti_feminist_labeled_sentences = [LabeledSentence(words=tweet.split(), labels=['ANTI']) for tweet in anti_feminist_tweets]"
   ]
  },
  {
   "cell_type": "code",
   "execution_count": null,
   "metadata": {
    "collapsed": true
   },
   "outputs": [],
   "source": [
    "doc_model_fp = '/home/class03/TwitFem/data/doc2vec_model'\n"
   ]
  }
 ],
 "metadata": {
  "kernelspec": {
   "display_name": "Python 3",
   "language": "python",
   "name": "python3"
  },
  "language_info": {
   "codemirror_mode": {
    "name": "ipython",
    "version": 3
   },
   "file_extension": ".py",
   "mimetype": "text/x-python",
   "name": "python",
   "nbconvert_exporter": "python",
   "pygments_lexer": "ipython3",
   "version": "3.3.2"
  }
 },
 "nbformat": 4,
 "nbformat_minor": 0
}
