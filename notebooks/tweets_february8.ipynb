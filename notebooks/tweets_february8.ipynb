{
 "cells": [
  {
   "cell_type": "code",
   "execution_count": 20,
   "metadata": {
    "collapsed": true
   },
   "outputs": [],
   "source": [
    "import pandas as pd\n",
    "import numpy as np\n",
    "import matplotlib.pyplot as plt"
   ]
  },
  {
   "cell_type": "code",
   "execution_count": 5,
   "metadata": {
    "collapsed": true
   },
   "outputs": [],
   "source": [
    "fn = '../twitfem/twitfem.csv'"
   ]
  },
  {
   "cell_type": "code",
   "execution_count": 246,
   "metadata": {
    "collapsed": true
   },
   "outputs": [],
   "source": [
    "# Read in data\n",
    "df_in = pd.read_csv(fn, encoding='latin-1')\n",
    "\n",
    "# Extract date\n",
    "times = [n for n in df_in['tweeted_time']]\n",
    "times[183411] = '999999999999'\n",
    "times = [n[0:10] for n in times]\n",
    "date = [n == '2015-02-08' for n in times]"
   ]
  },
  {
   "cell_type": "code",
   "execution_count": 247,
   "metadata": {
    "collapsed": false
   },
   "outputs": [
    {
     "name": "stdout",
     "output_type": "stream",
     "text": [
      "RT @FeministFailure: #QuestionsForMen Are you aware some feminists blame you for how they choose to spend their own money?  @LaSandrinette \\u2026\n"
     ]
    }
   ],
   "source": [
    "# Print a tweet from the date\n",
    "row = np.random.choice(df_in[date].index.values, 1)\n",
    "print(df_in['tweet'].iloc[row[0]])"
   ]
  },
  {
   "cell_type": "code",
   "execution_count": null,
   "metadata": {
    "collapsed": true
   },
   "outputs": [],
   "source": []
  }
 ],
 "metadata": {
  "kernelspec": {
   "display_name": "Python 3",
   "language": "python",
   "name": "python3"
  },
  "language_info": {
   "codemirror_mode": {
    "name": "ipython",
    "version": 3
   },
   "file_extension": ".py",
   "mimetype": "text/x-python",
   "name": "python",
   "nbconvert_exporter": "python",
   "pygments_lexer": "ipython3",
   "version": "3.3.2"
  }
 },
 "nbformat": 4,
 "nbformat_minor": 0
}
