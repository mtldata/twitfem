{
 "cells": [
  {
   "cell_type": "code",
   "execution_count": 5,
   "metadata": {
    "collapsed": false
   },
   "outputs": [
    {
     "ename": "SyntaxError",
     "evalue": "invalid syntax (<ipython-input-5-893bf9f0334e>, line 2)",
     "output_type": "error",
     "traceback": [
      "\u001b[1;36m  File \u001b[1;32m\"<ipython-input-5-893bf9f0334e>\"\u001b[1;36m, line \u001b[1;32m2\u001b[0m\n\u001b[1;33m    print is\u001b[0m\n\u001b[1;37m            ^\u001b[0m\n\u001b[1;31mSyntaxError\u001b[0m\u001b[1;31m:\u001b[0m invalid syntax\n"
     ]
    }
   ],
   "source": [
    "\"is\"*6804\n",
    "\"need\"*5096\n",
    "\"!\"*4970\n",
    "\"about\"*4536\n",
    "\"in\"*2658\n",
    "\"what\"*2630\n",
    "we*2626\n",
    "it's*2460\n",
    "like*2369\n",
    "your*2285\n",
    "'*2171\n",
    "you*2140\n",
    "don't*2136\n",
    "more*1558\n",
    "just*1467\n",
    "has*1396\n",
    "\"*1212\n",
    "to*1098\n",
    "people*1019\n",
    "the*984\n",
    "u*827\n",
    "support*822\n",
    "important*782\n",
    "women*772\n",
    "talk*726\n",
    "think*687\n",
    "#feminism*673\n",
    "believe*666\n",
    "equality*664\n",
    "&*661\n",
    "its*617\n",
    "have*606\n",
    "@weneedfeminlsm*606\n",
    "don*598\n",
    "me*591\n",
    "isn't*583\n",
    "than*579\n",
    "female*572\n",
    "love*543\n",
    "our*524\n",
    "means*516\n",
    "been*477\n",
    "word*457\n",
    "/*455\n",
    "rights*447\n",
    "no*442\n",
    "tell*430\n",
    "ur*429\n",
    "\n",
    "print \"is\""
   ]
  },
  {
   "cell_type": "code",
   "execution_count": 2,
   "metadata": {
    "collapsed": false
   },
   "outputs": [
    {
     "ename": "SyntaxError",
     "evalue": "invalid syntax (<ipython-input-2-2707b38946e7>, line 1)",
     "output_type": "error",
     "traceback": [
      "\u001b[1;36m  File \u001b[1;32m\"<ipython-input-2-2707b38946e7>\"\u001b[1;36m, line \u001b[1;32m1\u001b[0m\n\u001b[1;33m    print what\u001b[0m\n\u001b[1;37m             ^\u001b[0m\n\u001b[1;31mSyntaxError\u001b[0m\u001b[1;31m:\u001b[0m invalid syntax\n"
     ]
    }
   ],
   "source": []
  },
  {
   "cell_type": "code",
   "execution_count": null,
   "metadata": {
    "collapsed": true
   },
   "outputs": [],
   "source": []
  }
 ],
 "metadata": {
  "kernelspec": {
   "display_name": "Python 3",
   "language": "python",
   "name": "python3"
  },
  "language_info": {
   "codemirror_mode": {
    "name": "ipython",
    "version": 3
   },
   "file_extension": ".py",
   "mimetype": "text/x-python",
   "name": "python",
   "nbconvert_exporter": "python",
   "pygments_lexer": "ipython3",
   "version": "3.3.2"
  }
 },
 "nbformat": 4,
 "nbformat_minor": 0
}
